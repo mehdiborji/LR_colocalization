{
 "cells": [
  {
   "cell_type": "code",
   "execution_count": null,
   "id": "7b033f1f-56d6-4d50-af10-2922e9ac01cc",
   "metadata": {},
   "outputs": [],
   "source": [
    "import matplotlib.pyplot as plt\n",
    "import numpy as np\n",
    "import os\n",
    "import scanpy as sc\n",
    "import seaborn as sns\n",
    "import pandas as pd\n",
    "import glob\n",
    "import subprocess\n",
    "import scipy.spatial as spatial\n",
    "import random\n",
    "import scipy\n",
    "import statsmodels\n",
    "\n",
    "\n",
    "def marker_plot(\n",
    "    adata,\n",
    "    heading,\n",
    "    markers,\n",
    "    crop,\n",
    "    tfnt=15,\n",
    "    t=0,\n",
    "    nrow=10,\n",
    "    ncol=5,\n",
    "    wd=6,\n",
    "    spot=50,\n",
    "    alpha=0.6,\n",
    "    rembar=True,\n",
    "    vmx=\"p99.2\",\n",
    "):\n",
    "    fig, ax = plt.subplots(\n",
    "        nrow, ncol, figsize=(ncol * wd, nrow * wd), gridspec_kw={\"wspace\": 0.01}\n",
    "    )\n",
    "    axr = ax.ravel()\n",
    "    # sc.pl.spatial(adata, color='total_counts',vmax='p99.2',spot_size=40,frameon=False,\n",
    "    #                  crop_coord=crop,cmap='plasma',alpha=.6,ax=axr[0], show=False)\n",
    "    for i, gene in enumerate(markers):\n",
    "        # i=i+1\n",
    "        try:\n",
    "            # ad=adata[ (adata[:,gene].X>0)]\n",
    "            # if ad.shape[0]>10000:\n",
    "            #    t=0;print(ad.shape[0],gene,adata[ (adata[:,gene].X>t)].shape[0])\n",
    "            # else:\n",
    "            #    t=0;print(ad.shape[0],gene)\n",
    "            if vmx is not None:\n",
    "                sc.pl.spatial(\n",
    "                    adata[(adata[:, gene].X > t)],\n",
    "                    color=gene,\n",
    "                    vmax=vmx,\n",
    "                    spot_size=spot,\n",
    "                    ax=axr[i],\n",
    "                    show=False,\n",
    "                    frameon=False,  # frameon=True,\n",
    "                    crop_coord=crop,\n",
    "                    # crop_coord=[300,5000,5100,400],\n",
    "                    # crop_coord=[500,4600,4800,400],\n",
    "                    cmap=\"plasma\",\n",
    "                    alpha=alpha,\n",
    "                    alpha_img=0.8,\n",
    "                )\n",
    "            else:\n",
    "                sc.pl.spatial(\n",
    "                    adata[(adata[:, gene].X > t)],\n",
    "                    color=gene,\n",
    "                    spot_size=spot,\n",
    "                    ax=axr[i],\n",
    "                    show=False,\n",
    "                    frameon=False,  # frameon=True,\n",
    "                    crop_coord=crop,\n",
    "                    # crop_coord=[300,5000,5100,400],\n",
    "                    # crop_coord=[500,4600,4800,400],\n",
    "                    cmap=\"plasma\",\n",
    "                    alpha=alpha,\n",
    "                    alpha_img=0.8,\n",
    "                )\n",
    "            # scalebar = ScaleBar(0.65,\"um\", length_fraction=1 / 3 / 2,frameon=False,label_loc=\"bottom\",label=None,location=\"lower right\")\n",
    "            # axr[i].add_artist(scalebar)\n",
    "            if heading is None:\n",
    "                axr[i].set_title(\n",
    "                    f\"{gene}\", fontsize=tfnt\n",
    "                )  # , fontweight='bold')#,f'{gene}\\n{puck}' fontwieght=\"medium\")\n",
    "            else:\n",
    "                axr[i].set_title(f\"{gene}\\n{heading}\", fontsize=tfnt)\n",
    "            cbar = axr[i].collections[0].colorbar\n",
    "            if rembar:\n",
    "                cbar.remove()\n",
    "        except:\n",
    "            axr[i].remove()\n",
    "            # i=i-1\n",
    "    for j in np.arange(i + 1, len(axr)):\n",
    "        axr[j].remove()\n",
    "\n",
    "\n",
    "def mtx_adata(slideseq_folder, save=True):\n",
    "    \n",
    "    folder_name = os.path.basename(slideseq_folder)\n",
    "    date = folder_name.split(\"_\")[0]\n",
    "    puck = folder_name.split(date + \"_\")[1]\n",
    "\n",
    "    if os.path.isfile(f\"{slideseq_folder}/adata_{puck}_raw.h5ad\"):\n",
    "        print(f\"adata for {puck} exists\")\n",
    "    else:\n",
    "        \n",
    "        print(f\"load in counts matrix in mtx format for {puck}\")\n",
    "        \n",
    "        adata = sc.read_mtx(\n",
    "            f\"{slideseq_folder}/{puck}.matched.digital_expression_matrix.mtx.gz\"\n",
    "        )\n",
    "        adata = adata.T\n",
    "        \n",
    "        print(\"load in gene names/ids table\")\n",
    "        \n",
    "        adata.var = pd.read_table(\n",
    "            f\"{slideseq_folder}/{puck}.matched.digital_expression_features.tsv.gz\",\n",
    "            names=[\"ensembl\", \"gene\"],\n",
    "            index_col=1,\n",
    "        )\n",
    "        \n",
    "        print(\"load in bead barcodes and location table\")\n",
    "        \n",
    "        barcodes = pd.read_table(\n",
    "            f\"{slideseq_folder}/{puck}.matched.digital_expression_barcodes.tsv.gz\",\n",
    "            names=[\"barcode\"],\n",
    "            index_col=0,\n",
    "        ) \n",
    "        \n",
    "        barcode_xy = pd.read_table(\n",
    "            f\"{slideseq_folder}/{puck}_barcode_xy.txt.gz\", names=[\"x\", \"y\"], index_col=0\n",
    "        )\n",
    "        \n",
    "        adata.obs = barcodes.merge(barcode_xy, left_index=True, right_index=True)\n",
    "        adata.obsm[\"spatial\"] = adata.obs.values\n",
    "        sc.pp.calculate_qc_metrics(adata, percent_top=None, log1p=True, inplace=True)\n",
    "        if save:\n",
    "            print(f\"saving adata file for {puck}\")\n",
    "            adata.write_h5ad(f\"{slideseq_folder}/adata_{puck}_raw.h5ad\")"
   ]
  },
  {
   "cell_type": "code",
   "execution_count": null,
   "id": "ba36b5bc-28f0-4b33-a458-4e8095c0e5ce",
   "metadata": {},
   "outputs": [],
   "source": []
  },
  {
   "cell_type": "code",
   "execution_count": null,
   "id": "d155197a-bf90-4279-9a09-28966061d35f",
   "metadata": {},
   "outputs": [],
   "source": [
    "root_dir = '/home/jupyter/follicular_lymphoma'"
   ]
  },
  {
   "cell_type": "code",
   "execution_count": null,
   "id": "0465bb0c-b5cb-45a5-a34d-87f1ea09db26",
   "metadata": {},
   "outputs": [],
   "source": [
    "library_folders = os.listdir(root_dir)"
   ]
  },
  {
   "cell_type": "markdown",
   "id": "a270fe96-bf5f-458d-b120-2f5c73c2be73",
   "metadata": {},
   "source": [
    "# convert slide-seq pipeline outputs to proper AnnData objects"
   ]
  },
  {
   "cell_type": "code",
   "execution_count": null,
   "id": "dc795442-556e-4589-be32-b6c7e4eaf1ee",
   "metadata": {},
   "outputs": [],
   "source": [
    "for lib in library_folders:\n",
    "    slideseq_folder = f'{root_dir}/{lib}'\n",
    "    mtx_adata(slideseq_folder)"
   ]
  },
  {
   "cell_type": "markdown",
   "id": "ba74b0f2-2ab9-4d16-8c0e-c33724ffc5d7",
   "metadata": {},
   "source": [
    "# make single gene plots from pucks"
   ]
  },
  {
   "cell_type": "code",
   "execution_count": null,
   "id": "1047f44e-3465-4401-9718-50dca999f721",
   "metadata": {},
   "outputs": [],
   "source": [
    "crop = [0,5000,0,5000]"
   ]
  },
  {
   "cell_type": "code",
   "execution_count": null,
   "id": "ea627c86-2335-495c-8d20-4c41fdd59c04",
   "metadata": {},
   "outputs": [],
   "source": [
    "folder_name = library_folders[19]\n",
    "slideseq_folder = f'{root_dir}/{folder_name}'\n",
    "date = folder_name.split(\"_\")[0]\n",
    "puck = folder_name.split(date + \"_\")[1]\n",
    "\n",
    "adata = sc.read(f\"{slideseq_folder}/adata_{puck}_raw.h5ad\")"
   ]
  },
  {
   "cell_type": "code",
   "execution_count": null,
   "id": "38f5b8a6-c6fd-49ee-b75a-ce79f4ebc3fc",
   "metadata": {},
   "outputs": [],
   "source": [
    "folder_name = os.path.basename(slideseq_folder)\n",
    "date = folder_name.split(\"_\")[0]\n",
    "puck = folder_name.split(date + \"_\")[1]\n",
    "\n",
    "marker_plot(adata,heading=puck,crop=crop,markers=['CD3D','LYZ','TNFRSF8','TNFSF8'])"
   ]
  },
  {
   "cell_type": "markdown",
   "id": "130e8495-904b-4adf-8125-16d395f8e847",
   "metadata": {},
   "source": [
    "# make a proper csv file with puck, patient and adata path"
   ]
  },
  {
   "cell_type": "code",
   "execution_count": null,
   "id": "45f92792-a9e0-4a99-b38e-b240ce606d3c",
   "metadata": {},
   "outputs": [],
   "source": [
    "pucks = pd.read_csv('../FL_pucks.csv',names=['puck','patient'])\n",
    "\n",
    "pucks = pucks.drop_duplicates()\n",
    "\n",
    "root_dir = \"/home/jupyter/follicular_lymphoma\"\n",
    "\n",
    "all_puck_path = []\n",
    "for i in range(len(pucks)):\n",
    "    puck = pucks.iloc[i].puck\n",
    "    puck_adata_path = f\"{root_dir}/2025-01-23_{puck}/adata_{puck}_raw.h5ad\"\n",
    "    all_puck_path.append(puck_adata_path)\n",
    "\n",
    "pucks['adata_path'] = all_puck_path\n",
    "\n",
    "pucks.to_csv('FL_pucks_with_path.csv',index=None)"
   ]
  },
  {
   "cell_type": "markdown",
   "id": "d5e94b50-a113-41a6-9df7-8bbc98667f41",
   "metadata": {},
   "source": [
    "# aggregate results of spatial data and merge with original LIANA csv"
   ]
  },
  {
   "cell_type": "code",
   "execution_count": null,
   "id": "2acdc5d6-9eef-49b9-bc10-58f051cece21",
   "metadata": {},
   "outputs": [],
   "source": [
    "res_dir = '../fl_results/'"
   ]
  },
  {
   "cell_type": "code",
   "execution_count": null,
   "id": "09f44142-cd2b-40e0-b790-57aa2492e11d",
   "metadata": {},
   "outputs": [],
   "source": [
    "files = os.listdir(res_dir)\n",
    "\n",
    "dfs=[]\n",
    "for f in files:\n",
    "    if 'result_' in f:\n",
    "        #if 'IL21R' in f:\n",
    "        dfs.append(pd.read_csv(res_dir+'/'+f,index_col=0))\n",
    "\n",
    "res_all = pd.concat(dfs)\n",
    "\n",
    "uniqs=res_all.LR.unique()\n",
    "\n",
    "\n",
    "from scipy import stats\n",
    "\n",
    "LRs=[]\n",
    "for d in [15,30,100,300]:\n",
    "    res=res_all[res_all.distance==d].copy()\n",
    "    res['hit/mean']=res['hits']/res['mean']\n",
    "    for lr in uniqs:\n",
    "        sub=res[res.LR==lr]\n",
    "        a=stats.combine_pvalues(sub.pval,method='fisher')[1]\n",
    "        LRs.append([lr,d,a,sub['hit/mean'].mean()])\n",
    "\n",
    "LRs=pd.DataFrame(LRs)\n",
    "\n",
    "LRs.columns=['LR','distance','pval','mean effect']\n",
    "\n",
    "LR=LRs.sort_values(by='pval',ascending=True)\n",
    "\n",
    "from statsmodels.stats import multitest\n",
    "\n",
    "LR['fdr'] = multitest.fdrcorrection(LR.pval, alpha=0.05,is_sorted=False)[1]\n",
    "\n",
    "LR['-logfdr']=-np.log10(LR['fdr'])\n",
    "\n",
    "LR = LR[['LR', 'distance', 'mean effect', '-logfdr']]\n",
    "LR.columns=['LR', 'dist', 'effect', '-logfdr']\n",
    "\n",
    "LR = LR.pivot(index='LR', columns='dist')#['pval']\n",
    "\n",
    "LR2 = LR.T.reset_index()\n",
    "LR2.index = LR2['dist'].astype('str')+'p_'+LR2['level_0']\n",
    "LR2 = LR2[LR2.columns[2:]]\n",
    "LR2 = LR2.T\n",
    "LR_all = LR2.reset_index()"
   ]
  },
  {
   "cell_type": "code",
   "execution_count": null,
   "id": "6eee248b-b6d6-4bf3-8298-aab57d5c52aa",
   "metadata": {},
   "outputs": [],
   "source": [
    "Liana = pd.read_csv('../liana_FL.csv',index_col=0)\n",
    "Liana['complex_pair'] = Liana['ligand.complex']+'--'+Liana['receptor.complex']\n",
    "\n",
    "final_df = pd.merge(Liana,LR_all,how='left',left_on='complex_pair',right_on='LR')"
   ]
  },
  {
   "cell_type": "code",
   "execution_count": null,
   "id": "d32df507-6acb-441d-a151-848a5e73ff9e",
   "metadata": {},
   "outputs": [],
   "source": [
    "final_df.to_csv('../liana_FL_spatial_merged.csv.gz',compression='infer',index=None)"
   ]
  }
 ],
 "metadata": {
  "environment": {
   "kernel": "python3",
   "name": "common-cu110.m98",
   "type": "gcloud",
   "uri": "gcr.io/deeplearning-platform-release/base-cu110:m98"
  },
  "kernelspec": {
   "display_name": "Python 3",
   "language": "python",
   "name": "python3"
  },
  "language_info": {
   "codemirror_mode": {
    "name": "ipython",
    "version": 3
   },
   "file_extension": ".py",
   "mimetype": "text/x-python",
   "name": "python",
   "nbconvert_exporter": "python",
   "pygments_lexer": "ipython3",
   "version": "3.7.12"
  }
 },
 "nbformat": 4,
 "nbformat_minor": 5
}
